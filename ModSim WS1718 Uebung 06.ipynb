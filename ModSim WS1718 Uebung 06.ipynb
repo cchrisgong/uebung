{
 "cells": [
  {
   "cell_type": "markdown",
   "metadata": {},
   "source": [
    "# Simulation und Modellierung WS17/18 - Uebung 06"
   ]
  },
  {
   "cell_type": "markdown",
   "metadata": {},
   "source": [
    "### Aufgabe 1: Erzeugung und Multiplikation von Vektoren und Matrizen"
   ]
  },
  {
   "cell_type": "markdown",
   "metadata": {},
   "source": [
    "Die Ableitung einer Funktion $f(x)$ an einer Stelle $x_0$ kann mit Hilfe eines geeigneten Differenzenquotienten approximiert werden. Es gilt\n",
    "\n",
    "$$\n",
    "    \\lim_{h\\to 0} \\frac{f(x_0+h)-f(x_0-h)}{2h} = f'(x_0)\n",
    "$$\n",
    "\n",
    "- Definieren Sie eine `N`x`N` Matrix `D`, welche auf einen `N`x`1` Vektor `f` angewendet die symmetrische Differenz der Gitterpunkte $(Df)_i = f_{i+1}-f_{i-1}$ berechnet, wobei man periodische Randbedingungen $f_{i+N}=f_i$ annimmt. \n",
    "- berechnen Sie mit Hilfe dieser Matrix die erste und zweite Abbleitung der Funktion `f(x) = sin(x)` welche an `N` Gitterpunkten auf dem Intervall $[0,2\\pi)$ gegeben sei.\n",
    "- plotten Sie $f(x)$, $f'(x)$ und $f''(x)$ in ein Diagramm."
   ]
  },
  {
   "cell_type": "code",
   "execution_count": null,
   "metadata": {
    "collapsed": true
   },
   "outputs": [],
   "source": [
    "#Ausgabe der Plots im Notebook und laden von numpy und pylab (matplotlib+pyplot)\n",
    "%matplotlib inline\n",
    "import numpy as np \n",
    "from pylab import *"
   ]
  },
  {
   "cell_type": "code",
   "execution_count": null,
   "metadata": {
    "collapsed": false
   },
   "outputs": [],
   "source": [
    "#define N, D, x, h, f, df  and d2f here\n",
    "\n",
    "plot(x,f,'b',label='$sin(x)$')\n",
    "plot(x,df,'g',label='$sin\\'(x)$')\n",
    "plot(x,d2f,'r',label=\"$sin''(x)$\")\n",
    "legend()\n",
    "show()"
   ]
  },
  {
   "cell_type": "markdown",
   "metadata": {},
   "source": [
    "### Aufgabe 2 : Der getriebene, gedaempfte harm. Oszillator"
   ]
  },
  {
   "cell_type": "markdown",
   "metadata": {},
   "source": [
    "Der getriebene, gedaempfte harmonische Oszillator genuegt der Differentialgleichung\n",
    "\n",
    "$$\n",
    "    \\ddot x + 2\\gamma \\dot x + \\omega_0^2 x = A \\cos(t)\n",
    "$$\n",
    "z.B. mit $\\gamma=0.1$, $\\omega_0=1.0$ und $A=1.0$.\n",
    "- Schreiben Sie eine Funktion `limit_cycle(omega0=1.0,gamma=0.1,A=1.0,N=100)`, welche die lineare, inhomogene Differentialgleichung in `N` Zeitschritte ueber eine Periode der antreibenen Kraft diskretisiert und als lineares Gleichungssystem \n",
    "<br><br>\n",
    "$$\n",
    "    \\frac{1}{4h^2}\\textrm{D}^2\\cdot \\vec{x} + 2\\gamma \\frac{1}{2h}\\textrm{D}\\cdot \\vec{x} + \\omega_0^2 ~\\mathbf{1}\\cdot \\vec{x} = A cos(\\vec{t})\n",
    "$$\n",
    "loest. \n",
    "\n",
    "- Bestimmen und zeichnen Sie die Amplitude $B$ und die Phasenverschiebung $\\varphi$ der Loesung $x = B \\cos(t-\\varphi)$ als Funktion von $\\omega_0$. Hierfuer kann man die numpy Array Methode `x.argmax()` verwenden, welche den Index des maximalen Elements von `x` liefert.\n",
    "- Zeichnen Sie die analytischen Loesungen\n",
    "$$\n",
    "\\begin{eqnarray}\n",
    "    B &=& \\frac{A}{\\sqrt{(\\omega_0^2-1)^2+4\\gamma^2}} \\\\\n",
    "    \\tan\\varphi &=& \\frac{-2\\gamma}{\\omega_0^2-1}\n",
    "\\end{eqnarray}\n",
    "$$\n",
    "ueber die von Ihnen numerisch gefundenen Loesungen als Funktion der Eigenfrequenz $\\omega_0$ des harmonischen Oscillators. *Hinweis :* Die Methode `numpy.arctan2(y,x)` gibt den Winkel `alpha` mit `sin(alpha)=y` und `cos(alpha)=x` zurueck."
   ]
  },
  {
   "cell_type": "code",
   "execution_count": null,
   "metadata": {
    "collapsed": true
   },
   "outputs": [],
   "source": [
    "import numpy as np\n",
    "def limit_cycle(omega0=1.0,gamma=0.1,A=1.0,N=100) :\n",
    "    \"\"\" \n",
    "    Bestimmt die Loesung der inhomogenen linearen Differentialgleichung\n",
    "    d^2x/dt^2 + 2 gamma dx/dt + omega0^2 x = A cos(t)\n",
    "    auf dem in N Punkte diskretisierten periodischen Zeitintervall [0,2pi)\n",
    "    \"\"\"\n",
    "    \n",
    "    #your code goes here"
   ]
  },
  {
   "cell_type": "code",
   "execution_count": null,
   "metadata": {
    "collapsed": true
   },
   "outputs": [],
   "source": [
    "L=100\n",
    "omega0 = np.linspace(0.1,4,L)\n",
    "B = np.zeros(L)\n",
    "phi = np.zeros(L)\n",
    "\n",
    "# bestimme B und phi numerisch fuer alle Werte in omega0\n",
    "# definiere die theoretischen Werte Bth und phith\n",
    "\n",
    "\n",
    "subplot(2,1,1)\n",
    "plot(omega0,B,label='num.')\n",
    "plot(omega0,Bth,'k--',label='Theorie')\n",
    "legend()\n",
    "xlabel('$\\omega_0$')\n",
    "ylabel('$B$')\n",
    "\n",
    "\n",
    "subplot(2,1,2)\n",
    "plot(omega0,phi,label='num.')\n",
    "plot(omega0,phith,'k--',label='Theorie')\n",
    "legend()\n",
    "xlabel('$\\omega_0$')\n",
    "ylabel('$\\phi$')\n",
    "show()"
   ]
  }
 ],
 "metadata": {
  "kernelspec": {
   "display_name": "Python 3",
   "language": "python",
   "name": "python3"
  },
  "language_info": {
   "codemirror_mode": {
    "name": "ipython",
    "version": 3
   },
   "file_extension": ".py",
   "mimetype": "text/x-python",
   "name": "python",
   "nbconvert_exporter": "python",
   "pygments_lexer": "ipython3",
   "version": "3.4.1"
  }
 },
 "nbformat": 4,
 "nbformat_minor": 0
}
