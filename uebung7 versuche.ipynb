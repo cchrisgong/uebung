{
 "cells": [
  {
   "cell_type": "markdown",
   "metadata": {},
   "source": [
    "## Simulation und Modellierung WS 17/18 Uebung 07 : \n",
    "### Methode der kleinsten quadratischen Abweichungen"
   ]
  },
  {
   "cell_type": "markdown",
   "metadata": {},
   "source": [
    "### <u>Aufgabe 1</u>"
   ]
  },
  {
   "cell_type": "markdown",
   "metadata": {},
   "source": [
    "Fuer die Koordinaten $(x,y)$ eines beliebiegen Kegelschnittes in der Ebene gilt\n",
    "\n",
    "$$\n",
    "        f(x,y) = A x^2 + B xy + C y^2 + D x + E y = 1\n",
    "$$\n",
    "\n",
    "Die Datei `orbit.dat` enthaelt eine Tabelle von $x$ und $y$ Werten, welche messfehlerbehaftete Punkte eines Kegelschnittes sind. \n",
    "\n",
    "\n",
    "- Laden Sie die Daten in ein `numpy` Array und finden Sie die Koeffizienten $A,B,C,D$ und $E$, welche die Summe der quadratischen Abweichungen ueber alle Messpunkte des Ausdrucks auf der linken Seite zur Zahl `1` minimiert.\n",
    "\n",
    "Der Kegelschnitt ist eine geschlossene Kurve, wenn $B^2-4AC<0$ gilt, eine Parabel, wenn $B^2-4AC=0$ und ansonsten eine Hyperbel.\n",
    "\n",
    "- Ist dieser Kegelschnitt eine offene oder geschlossene Kurve?\n",
    "- Zeichnen Sie alle Kurven $y=y(x)$, die die Kegelschnittgleichung erfuellen zusammen mit den Datenpunkten in ein Diagram.\n",
    "\n",
    "*Hinweis* : Sie koennen entweder Kegelschnittgleichung als quadratische Gleichung explizit nach $y$ aufloesen und beide Loesungen dort plotten, wo der Imaginaerteil gleich Null (oder sehr klein) ist, oder die matplotlib Funktion `mpl.contour(X,Y,f(X,Y),[1.0])` mit `X,Y = np.meshgrid(np.linspace(-2,2),np.linspace(-2,2))`, um die Hoehenlinie $f(X,Y)=1$ darzustellen.\n",
    "\n",
    "*Zur Erinnerung* : Die Summe der quadratischen Abweichungen eines ueberbestimmten linearen Gleichungssystems\n",
    "\n",
    "$$\n",
    "    \\mathrm{A}(\\vec{x},\\vec{y}) \\vec{c} = \\vec{b}\n",
    "$$\n",
    "wird durch die Loesung des kleineren linearen Gleichungssystems\n",
    "\n",
    "$$\n",
    "    \\mathrm{A}^\\top\\mathrm{A} \\vec{c} = \\mathrm{A}^\\top\\vec{b}\n",
    "$$\n",
    "minimiert."
   ]
  },
  {
   "cell_type": "code",
   "execution_count": 2,
   "metadata": {
    "collapsed": true
   },
   "outputs": [],
   "source": [
    "from pylab import *\n",
    "%matplotlib inline"
   ]
  },
  {
   "cell_type": "code",
   "execution_count": 3,
   "metadata": {},
   "outputs": [
    {
     "name": "stdout",
     "output_type": "stream",
     "text": [
      "(200, 2)\n"
     ]
    }
   ],
   "source": [
    "data=np.loadtxt('orbit.dat')\n",
    "print(data.shape)"
   ]
  },
  {
   "cell_type": "code",
   "execution_count": 4,
   "metadata": {},
   "outputs": [
    {
     "data": {
      "text/plain": [
       "array([[-1.20857   ,  0.974792  ],\n",
       "       [-1.2049    ,  0.976515  ],\n",
       "       [-1.19696   ,  0.977973  ],\n",
       "       [-1.18588   ,  0.980293  ],\n",
       "       [-1.18044   ,  0.982202  ],\n",
       "       [-1.17848   ,  0.981927  ],\n",
       "       [-1.17476   ,  0.982631  ],\n",
       "       [-1.16185   ,  0.987245  ],\n",
       "       [-1.15288   ,  0.984763  ],\n",
       "       [-1.15006   ,  0.986735  ],\n",
       "       [-1.14931   ,  0.986688  ],\n",
       "       [-1.14642   ,  0.990443  ],\n",
       "       [-1.13974   ,  0.989017  ],\n",
       "       [-1.13077   ,  0.992144  ],\n",
       "       [-1.12616   ,  0.991462  ],\n",
       "       [-1.12212   ,  0.992086  ],\n",
       "       [-1.11123   ,  0.992223  ],\n",
       "       [-1.09649   ,  0.993853  ],\n",
       "       [-1.09655   ,  0.995136  ],\n",
       "       [-1.08767   ,  0.995373  ],\n",
       "       [-1.08287   ,  0.998548  ],\n",
       "       [-1.07802   ,  0.995568  ],\n",
       "       [-1.06465   ,  0.999314  ],\n",
       "       [-1.06125   ,  0.998521  ],\n",
       "       [-1.04732   ,  0.998509  ],\n",
       "       [-1.03637   ,  0.998279  ],\n",
       "       [-1.02375   ,  0.998976  ],\n",
       "       [-1.01903   ,  0.999158  ],\n",
       "       [-1.01568   ,  0.998531  ],\n",
       "       [-1.01301   ,  1.00144   ],\n",
       "       [-0.98984   ,  0.999122  ],\n",
       "       [-0.984655  ,  0.998645  ],\n",
       "       [-0.969766  ,  0.999573  ],\n",
       "       [-0.966606  ,  0.999494  ],\n",
       "       [-0.945412  ,  0.997193  ],\n",
       "       [-0.937938  ,  0.997656  ],\n",
       "       [-0.930556  ,  0.997869  ],\n",
       "       [-0.896887  ,  0.996058  ],\n",
       "       [-0.893568  ,  0.994157  ],\n",
       "       [-0.887842  ,  0.994885  ],\n",
       "       [-0.882179  ,  0.991774  ],\n",
       "       [-0.868292  ,  0.991454  ],\n",
       "       [-0.865645  ,  0.991708  ],\n",
       "       [-0.862378  ,  0.988787  ],\n",
       "       [-0.844171  ,  0.988949  ],\n",
       "       [-0.819219  ,  0.984059  ],\n",
       "       [-0.801025  ,  0.98087   ],\n",
       "       [-0.800216  ,  0.982687  ],\n",
       "       [-0.796946  ,  0.981331  ],\n",
       "       [-0.770519  ,  0.975221  ],\n",
       "       [-0.755805  ,  0.972868  ],\n",
       "       [-0.755533  ,  0.971231  ],\n",
       "       [-0.745171  ,  0.969896  ],\n",
       "       [-0.743841  ,  0.971729  ],\n",
       "       [-0.738627  ,  0.971182  ],\n",
       "       [-0.733767  ,  0.968727  ],\n",
       "       [-0.711914  ,  0.962185  ],\n",
       "       [-0.706978  ,  0.961951  ],\n",
       "       [-0.6853    ,  0.9556    ],\n",
       "       [-0.675211  ,  0.953303  ],\n",
       "       [-0.660563  ,  0.950589  ],\n",
       "       [-0.64008   ,  0.945433  ],\n",
       "       [-0.597797  ,  0.931301  ],\n",
       "       [-0.593033  ,  0.930269  ],\n",
       "       [-0.58525   ,  0.925944  ],\n",
       "       [-0.580839  ,  0.924584  ],\n",
       "       [-0.574282  ,  0.922705  ],\n",
       "       [-0.572932  ,  0.923459  ],\n",
       "       [-0.567732  ,  0.919848  ],\n",
       "       [-0.564883  ,  0.919394  ],\n",
       "       [-0.559392  ,  0.918108  ],\n",
       "       [-0.539724  ,  0.910391  ],\n",
       "       [-0.536677  ,  0.908919  ],\n",
       "       [-0.53691   ,  0.908647  ],\n",
       "       [-0.532702  ,  0.907167  ],\n",
       "       [-0.520338  ,  0.902351  ],\n",
       "       [-0.515019  ,  0.902757  ],\n",
       "       [-0.511947  ,  0.900754  ],\n",
       "       [-0.500856  ,  0.89653   ],\n",
       "       [-0.493997  ,  0.892251  ],\n",
       "       [-0.486303  ,  0.890337  ],\n",
       "       [-0.470449  ,  0.882706  ],\n",
       "       [-0.459238  ,  0.879518  ],\n",
       "       [-0.44606   ,  0.872729  ],\n",
       "       [-0.433227  ,  0.86848   ],\n",
       "       [-0.415508  ,  0.86075   ],\n",
       "       [-0.407921  ,  0.857097  ],\n",
       "       [-0.397088  ,  0.851618  ],\n",
       "       [-0.388161  ,  0.848612  ],\n",
       "       [-0.385749  ,  0.847168  ],\n",
       "       [-0.355033  ,  0.832591  ],\n",
       "       [-0.341498  ,  0.824354  ],\n",
       "       [-0.338719  ,  0.824241  ],\n",
       "       [-0.317249  ,  0.811965  ],\n",
       "       [-0.304059  ,  0.805337  ],\n",
       "       [-0.286259  ,  0.798183  ],\n",
       "       [-0.281272  ,  0.794935  ],\n",
       "       [-0.273905  ,  0.792592  ],\n",
       "       [-0.270422  ,  0.788531  ],\n",
       "       [-0.260242  ,  0.78362   ],\n",
       "       [-0.250489  ,  0.777136  ],\n",
       "       [-0.244717  ,  0.773119  ],\n",
       "       [-0.226192  ,  0.763543  ],\n",
       "       [-0.218118  ,  0.758352  ],\n",
       "       [-0.201335  ,  0.748695  ],\n",
       "       [-0.198335  ,  0.747447  ],\n",
       "       [-0.194177  ,  0.744701  ],\n",
       "       [-0.192078  ,  0.745964  ],\n",
       "       [-0.180903  ,  0.736419  ],\n",
       "       [-0.171233  ,  0.731427  ],\n",
       "       [-0.165638  ,  0.728152  ],\n",
       "       [-0.151909  ,  0.719032  ],\n",
       "       [-0.147467  ,  0.718524  ],\n",
       "       [-0.145601  ,  0.714553  ],\n",
       "       [-0.143412  ,  0.711593  ],\n",
       "       [-0.131519  ,  0.707247  ],\n",
       "       [-0.122515  ,  0.701538  ],\n",
       "       [-0.109156  ,  0.689531  ],\n",
       "       [-0.100153  ,  0.6875    ],\n",
       "       [-0.099422  ,  0.686231  ],\n",
       "       [-0.0845673 ,  0.67634   ],\n",
       "       [-0.0824281 ,  0.672428  ],\n",
       "       [-0.0695243 ,  0.665446  ],\n",
       "       [-0.0552809 ,  0.656906  ],\n",
       "       [-0.0463459 ,  0.651664  ],\n",
       "       [-0.044033  ,  0.649694  ],\n",
       "       [-0.0388505 ,  0.647867  ],\n",
       "       [-0.0198661 ,  0.633266  ],\n",
       "       [-0.0179141 ,  0.629046  ],\n",
       "       [-0.00830859,  0.625558  ],\n",
       "       [ 0.00227916,  0.615069  ],\n",
       "       [ 0.00338547,  0.614942  ],\n",
       "       [ 0.01222   ,  0.609373  ],\n",
       "       [ 0.0165005 ,  0.606221  ],\n",
       "       [ 0.0199728 ,  0.602179  ],\n",
       "       [ 0.0280315 ,  0.597404  ],\n",
       "       [ 0.0384658 ,  0.592575  ],\n",
       "       [ 0.0423789 ,  0.587619  ],\n",
       "       [ 0.053865  ,  0.577854  ],\n",
       "       [ 0.056271  ,  0.575026  ],\n",
       "       [ 0.0623401 ,  0.570364  ],\n",
       "       [ 0.0660684 ,  0.569909  ],\n",
       "       [ 0.0729369 ,  0.565377  ],\n",
       "       [ 0.0731184 ,  0.563787  ],\n",
       "       [ 0.116269  ,  0.528338  ],\n",
       "       [ 0.144218  ,  0.504714  ],\n",
       "       [ 0.155021  ,  0.499005  ],\n",
       "       [ 0.165083  ,  0.48788   ],\n",
       "       [ 0.170712  ,  0.484969  ],\n",
       "       [ 0.175904  ,  0.480312  ],\n",
       "       [ 0.181092  ,  0.474499  ],\n",
       "       [ 0.19231   ,  0.46797   ],\n",
       "       [ 0.199129  ,  0.460313  ],\n",
       "       [ 0.203919  ,  0.453182  ],\n",
       "       [ 0.214751  ,  0.443207  ],\n",
       "       [ 0.218969  ,  0.441121  ],\n",
       "       [ 0.222454  ,  0.4408    ],\n",
       "       [ 0.232245  ,  0.429935  ],\n",
       "       [ 0.23571   ,  0.426974  ],\n",
       "       [ 0.236024  ,  0.425434  ],\n",
       "       [ 0.240379  ,  0.42065   ],\n",
       "       [ 0.265538  ,  0.397173  ],\n",
       "       [ 0.275526  ,  0.388516  ],\n",
       "       [ 0.278167  ,  0.384874  ],\n",
       "       [ 0.294915  ,  0.369826  ],\n",
       "       [ 0.299131  ,  0.366409  ],\n",
       "       [ 0.310402  ,  0.35458   ],\n",
       "       [ 0.335221  ,  0.330631  ],\n",
       "       [ 0.340783  ,  0.327466  ],\n",
       "       [ 0.347887  ,  0.318894  ],\n",
       "       [ 0.369768  ,  0.296378  ],\n",
       "       [ 0.375343  ,  0.2907    ],\n",
       "       [ 0.39103   ,  0.27263   ],\n",
       "       [ 0.410776  ,  0.252841  ],\n",
       "       [ 0.427853  ,  0.233896  ],\n",
       "       [ 0.45057   ,  0.20934   ],\n",
       "       [ 0.462295  ,  0.196615  ],\n",
       "       [ 0.465133  ,  0.196173  ],\n",
       "       [ 0.476285  ,  0.178112  ],\n",
       "       [ 0.498665  ,  0.152907  ],\n",
       "       [ 0.499854  ,  0.149897  ],\n",
       "       [ 0.503972  ,  0.144812  ],\n",
       "       [ 0.504501  ,  0.144518  ],\n",
       "       [ 0.512456  ,  0.135383  ],\n",
       "       [ 0.523937  ,  0.121829  ],\n",
       "       [ 0.544378  ,  0.0935238 ],\n",
       "       [ 0.552052  ,  0.086732  ],\n",
       "       [ 0.554292  ,  0.0854569 ],\n",
       "       [ 0.557878  ,  0.0805441 ],\n",
       "       [ 0.562536  ,  0.0754984 ],\n",
       "       [ 0.568218  ,  0.0663261 ],\n",
       "       [ 0.571919  ,  0.0610669 ],\n",
       "       [ 0.581782  ,  0.0490833 ],\n",
       "       [ 0.583556  ,  0.045994  ],\n",
       "       [ 0.585595  ,  0.0423205 ],\n",
       "       [ 0.595399  ,  0.0335856 ],\n",
       "       [ 0.613692  ,  0.00780744],\n",
       "       [ 0.628775  , -0.0150226 ],\n",
       "       [ 0.634578  , -0.0214473 ],\n",
       "       [ 0.644602  , -0.0389007 ]])"
      ]
     },
     "execution_count": 4,
     "metadata": {},
     "output_type": "execute_result"
    }
   ],
   "source": [
    "np.array(data) #daten in numpy array laden"
   ]
  },
  {
   "cell_type": "code",
   "execution_count": 5,
   "metadata": {
    "collapsed": true
   },
   "outputs": [],
   "source": [
    "V=np.array(data) #vereinfachung des namens"
   ]
  },
  {
   "cell_type": "code",
   "execution_count": 9,
   "metadata": {},
   "outputs": [
    {
     "name": "stdout",
     "output_type": "stream",
     "text": [
      "[ 0.9827333] [ 0.95673125] [ 0.95861779] [ 1.00987493] [ 1.02591762]\n"
     ]
    }
   ],
   "source": [
    "H=np.ones((200,5)) #erstellt eine einer matrix mit 5 spalten (für unsere 5 variablen) und 200 zeilen\n",
    "J=np.ones((200,1)) #erstellt einer vektor mit 200 zeilen\n",
    "\n",
    "x=V[:,0] #definiere x,y\n",
    "y=V[:,1]\n",
    "\n",
    "for i in range (len(x)) : #LGS erstellen\n",
    "    H[i][0] = x[i]**2\n",
    "    H[i][1] = x[i]*y[i]\n",
    "    H[i][2] = y[i]**2\n",
    "    H[i][3] = x[i]\n",
    "    H[i][4] = y[i]\n",
    "    \n",
    "K=np.linalg.lstsq(H,J)[0] # löst LGS\n",
    "\n",
    "A=K[0] #definiere unsere fünf variablen der funktion/LGS\n",
    "B=K[1]\n",
    "C=K[2]\n",
    "D=K[3]\n",
    "E=K[4] \n",
    "\n",
    "print(A,B,C,D,E)"
   ]
  },
  {
   "cell_type": "code",
   "execution_count": 10,
   "metadata": {},
   "outputs": [
    {
     "data": {
      "text/plain": [
       "'Geschlossene Kurve'"
      ]
     },
     "execution_count": 10,
     "metadata": {},
     "output_type": "execute_result"
    }
   ],
   "source": [
    "def Kegelschnitt (A,B,C) : #überprüfung des kegelschnittes, wie sieht die Kurve aus?\n",
    "    Z = B**2-4*A*C        \n",
    "    if Z < 0:\n",
    "        return \"Geschlossene Kurve\"\n",
    "    if Z==0:\n",
    "        return \"offene Kurve\"\n",
    "    else:\n",
    "        return \"Hyperbel\"\n",
    "Kegelschnitt (A,B,C)"
   ]
  },
  {
   "cell_type": "code",
   "execution_count": 44,
   "metadata": {},
   "outputs": [
    {
     "ename": "TypeError",
     "evalue": "'module' object is not callable",
     "output_type": "error",
     "traceback": [
      "\u001b[1;31m---------------------------------------------------------------------------\u001b[0m",
      "\u001b[1;31mTypeError\u001b[0m                                 Traceback (most recent call last)",
      "\u001b[1;32m<ipython-input-44-fba7cf2eba04>\u001b[0m in \u001b[0;36m<module>\u001b[1;34m()\u001b[0m\n\u001b[0;32m      1\u001b[0m \u001b[0mX\u001b[0m\u001b[1;33m,\u001b[0m\u001b[0mY\u001b[0m \u001b[1;33m=\u001b[0m \u001b[0mnp\u001b[0m\u001b[1;33m.\u001b[0m\u001b[0mmeshgrid\u001b[0m\u001b[1;33m(\u001b[0m\u001b[0mnp\u001b[0m\u001b[1;33m.\u001b[0m\u001b[0mlinspace\u001b[0m\u001b[1;33m(\u001b[0m\u001b[1;33m-\u001b[0m\u001b[1;36m2\u001b[0m\u001b[1;33m,\u001b[0m\u001b[1;36m2\u001b[0m\u001b[1;33m)\u001b[0m\u001b[1;33m,\u001b[0m\u001b[0mnp\u001b[0m\u001b[1;33m.\u001b[0m\u001b[0mlinspace\u001b[0m\u001b[1;33m(\u001b[0m\u001b[1;33m-\u001b[0m\u001b[1;36m2\u001b[0m\u001b[1;33m,\u001b[0m\u001b[1;36m2\u001b[0m\u001b[1;33m)\u001b[0m\u001b[1;33m)\u001b[0m\u001b[1;33m\u001b[0m\u001b[0m\n\u001b[1;32m----> 2\u001b[1;33m \u001b[0mmpl\u001b[0m\u001b[1;33m.\u001b[0m\u001b[0mcontour\u001b[0m\u001b[1;33m(\u001b[0m\u001b[0mX\u001b[0m\u001b[1;33m,\u001b[0m\u001b[0mY\u001b[0m\u001b[1;33m,\u001b[0m\u001b[0mA\u001b[0m\u001b[1;33m,\u001b[0m\u001b[0mB\u001b[0m\u001b[1;33m,\u001b[0m\u001b[0mC\u001b[0m\u001b[1;33m,\u001b[0m\u001b[0mD\u001b[0m\u001b[1;33m,\u001b[0m\u001b[0mE\u001b[0m\u001b[1;33m,\u001b[0m\u001b[1;33m[\u001b[0m\u001b[1;36m1.0\u001b[0m\u001b[1;33m]\u001b[0m\u001b[1;33m)\u001b[0m\u001b[1;33m\u001b[0m\u001b[0m\n\u001b[0m\u001b[0;32m      3\u001b[0m \u001b[0mplot\u001b[0m\u001b[1;33m(\u001b[0m\u001b[0mV\u001b[0m\u001b[1;33m[\u001b[0m\u001b[1;33m:\u001b[0m\u001b[1;33m,\u001b[0m\u001b[1;36m0\u001b[0m\u001b[1;33m]\u001b[0m\u001b[1;33m,\u001b[0m\u001b[0mV\u001b[0m\u001b[1;33m[\u001b[0m\u001b[1;33m:\u001b[0m\u001b[1;33m,\u001b[0m\u001b[1;36m1\u001b[0m\u001b[1;33m]\u001b[0m\u001b[1;33m,\u001b[0m\u001b[1;34m\"*\"\u001b[0m\u001b[1;33m,\u001b[0m \u001b[0mlabel\u001b[0m\u001b[1;33m=\u001b[0m\u001b[1;34m\"Kegelschnitt\"\u001b[0m\u001b[1;33m)\u001b[0m \u001b[1;31m#plottet, zeichnet funktion\u001b[0m\u001b[1;33m\u001b[0m\u001b[0m\n",
      "\u001b[1;31mTypeError\u001b[0m: 'module' object is not callable"
     ]
    }
   ],
   "source": [
    "X,Y = np.meshgrid(np.linspace(-2,2),np.linspace(-2,2)) \n",
    "mpl.contour(X,Y,A,B,C,D,E,[1.0])\n",
    "plot(V[:,0],V[:,1],\"*\", label=\"Kegelschnitt\") #plottet, zeichnet funktion"
   ]
  },
  {
   "cell_type": "code",
   "execution_count": 23,
   "metadata": {},
   "outputs": [
    {
     "data": {
      "image/png": "[encoded data removed]",
      "text/plain": [
       "<matplotlib.figure.Figure at 0x8ef8208>"
      ]
     },
     "metadata": {},
     "output_type": "display_data"
    }
   ],
   "source": [
    "plot(data[0:200,0], data[0:200,1], label=\"Kegelschnitt\") #plotten der daten mit plot(x,x,label=\"y(x)\")\n",
    "legend()\n",
    "show()"
   ]
  },
  {
   "cell_type": "code",
   "execution_count": 38,
   "metadata": {},
   "outputs": [
    {
     "name": "stdout",
     "output_type": "stream",
     "text": [
      "[[-2.         -1.91836735 -1.83673469 ...,  1.83673469  1.91836735  2.        ]\n",
      " [-2.         -1.91836735 -1.83673469 ...,  1.83673469  1.91836735  2.        ]\n",
      " [-2.         -1.91836735 -1.83673469 ...,  1.83673469  1.91836735  2.        ]\n",
      " ..., \n",
      " [-2.         -1.91836735 -1.83673469 ...,  1.83673469  1.91836735  2.        ]\n",
      " [-2.         -1.91836735 -1.83673469 ...,  1.83673469  1.91836735  2.        ]\n",
      " [-2.         -1.91836735 -1.83673469 ...,  1.83673469  1.91836735  2.        ]] [[-2.         -2.         -2.         ..., -2.         -2.         -2.        ]\n",
      " [-1.91836735 -1.91836735 -1.91836735 ..., -1.91836735 -1.91836735\n",
      "  -1.91836735]\n",
      " [-1.83673469 -1.83673469 -1.83673469 ..., -1.83673469 -1.83673469\n",
      "  -1.83673469]\n",
      " ..., \n",
      " [ 1.83673469  1.83673469  1.83673469 ...,  1.83673469  1.83673469\n",
      "   1.83673469]\n",
      " [ 1.91836735  1.91836735  1.91836735 ...,  1.91836735  1.91836735\n",
      "   1.91836735]\n",
      " [ 2.          2.          2.         ...,  2.          2.          2.        ]] [ 0.9827333] [ 0.95673125] [ 0.95861779] [ 1.00987493] [ 1.02591762]\n"
     ]
    }
   ],
   "source": [
    "#LGS lösen auch möglich mit while schleife? aber wie? ausprobieren:\n",
    "def f(x,y):\n",
    "    x=V[:,0] #umbenennung der spalten\n",
    "    y=V[:,1]\n",
    "    np.dot(V)\n",
    "    while true:\n",
    "        A*x**2+B*x*y+C*y**2+D*x+E*y == 1 #funktion definieren\n",
    "        return np.linalg(x,y,A,B,C,D,E)\n",
    "print(x,y,A,B,C,D,E)"
   ]
  },
  {
   "cell_type": "markdown",
   "metadata": {},
   "source": [
    "### <u>Zusatzaufgabe</u>"
   ]
  },
  {
   "cell_type": "markdown",
   "metadata": {},
   "source": [
    "- Schreiben Sie eine Funktion `polyfit(x,y,N=0)`, welche fuer `L` Datenpunkte in den Feldern `x` und `y` die Koeffizienten `c` eines Polynoms \n",
    "$$\n",
    "    y = p(x)= c_0 x^0 + c_1 x^1 + c_2 x^2 + \\dots + c_N x^N\n",
    "$$ \n",
    "`N`ten Grades findet, welches die Summe der quadratischen Abweichungen $\\sum_l (p(x_l)-y_l)^2$ minimiert.\n",
    "- Demonstrieren Sie die Funktion grafisch anhand von `L` $\\gg$ `N` Punkten eines Polynoms, welche zufaellige Abweichungen in $x$ und $y$ Richtung aufweisen. *Hinweis* : `np.random.randn(N)` generiert ein Feld mit N standard normalverteilten Zufallszahlen)\n",
    "- Finden Sie ein Polynom, welches die Daten der ersten Aufgabe gut beschreibt."
   ]
  },
  {
   "cell_type": "code",
   "execution_count": 31,
   "metadata": {},
   "outputs": [
    {
     "ename": "SyntaxError",
     "evalue": "invalid syntax (<ipython-input-31-1b5f9c8bcfaf>, line 1)",
     "output_type": "error",
     "traceback": [
      "\u001b[1;36m  File \u001b[1;32m\"<ipython-input-31-1b5f9c8bcfaf>\"\u001b[1;36m, line \u001b[1;32m1\u001b[0m\n\u001b[1;33m    100% werder (^^)\u001b[0m\n\u001b[1;37m                 ^\u001b[0m\n\u001b[1;31mSyntaxError\u001b[0m\u001b[1;31m:\u001b[0m invalid syntax\n"
     ]
    }
   ],
   "source": [
    "100% werder (^^)"
   ]
  }
 ],
 "metadata": {
  "kernelspec": {
   "display_name": "Python 3",
   "language": "python",
   "name": "python3"
  },
  "language_info": {
   "codemirror_mode": {
    "name": "ipython",
    "version": 3
   },
   "file_extension": ".py",
   "mimetype": "text/x-python",
   "name": "python",
   "nbconvert_exporter": "python",
   "pygments_lexer": "ipython3",
   "version": "3.6.2"
  }
 },
 "nbformat": 4,
 "nbformat_minor": 1
}
